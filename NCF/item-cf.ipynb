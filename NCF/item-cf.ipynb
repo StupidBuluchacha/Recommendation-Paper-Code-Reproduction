{
 "cells": [
  {
   "cell_type": "code",
   "execution_count": 57,
   "id": "0612ddd8",
   "metadata": {},
   "outputs": [],
   "source": [
    "import os\n",
    "import pandas as pd\n",
    "\n",
    "from datetime import datetime\n",
    "from tqdm import tqdm\n",
    "\n",
    "from collections import defaultdict\n",
    "import math\n",
    "import numpy as np\n",
    "\n",
    "import random"
   ]
  },
  {
   "cell_type": "code",
   "execution_count": 58,
   "id": "da3e94c5",
   "metadata": {},
   "outputs": [],
   "source": [
    "df = pd.read_csv('ml-1m.inter',sep='\\t')"
   ]
  },
  {
   "cell_type": "code",
   "execution_count": 59,
   "id": "ccc4969f",
   "metadata": {},
   "outputs": [],
   "source": [
    "df = df.rename(columns={k:k.split(':')[0] for k in df.columns})"
   ]
  },
  {
   "cell_type": "code",
   "execution_count": 60,
   "id": "a973e206",
   "metadata": {},
   "outputs": [
    {
     "data": {
      "text/plain": [
       "(575281, 4)"
      ]
     },
     "execution_count": 60,
     "metadata": {},
     "output_type": "execute_result"
    }
   ],
   "source": [
    "pos_df = df[df['rating']>3].reset_index(drop=True)\n",
    "pos_df.shape"
   ]
  },
  {
   "cell_type": "code",
   "execution_count": 61,
   "id": "386fbdf5",
   "metadata": {},
   "outputs": [],
   "source": [
    "pos_df['user_count'] = pos_df['user_id'].map(pos_df['user_id'].value_counts())"
   ]
  },
  {
   "cell_type": "code",
   "execution_count": 62,
   "id": "44b9e682",
   "metadata": {},
   "outputs": [
    {
     "data": {
      "text/plain": [
       "(575242, 5)"
      ]
     },
     "execution_count": 62,
     "metadata": {},
     "output_type": "execute_result"
    }
   ],
   "source": [
    "pos_df = pos_df[pos_df['user_count']>5].reset_index(drop=True)\n",
    "pos_df.shape"
   ]
  },
  {
   "cell_type": "code",
   "execution_count": 63,
   "id": "f7e71c04",
   "metadata": {},
   "outputs": [],
   "source": [
    "pos_df = pos_df.sort_values(by=['user_id','timestamp'],ascending=True)"
   ]
  },
  {
   "cell_type": "code",
   "execution_count": 64,
   "id": "b2eb18b6",
   "metadata": {},
   "outputs": [],
   "source": [
    "pos_dict = pos_df.groupby('user_id')['item_id'].apply(list).to_dict()"
   ]
  },
  {
   "cell_type": "code",
   "execution_count": 65,
   "id": "33427438",
   "metadata": {},
   "outputs": [
    {
     "name": "stderr",
     "output_type": "stream",
     "text": [
      "100%|████████████████████████████████████████████████████████████████| 6028/6028 [00:00<00:00, 29268.80it/s]\n"
     ]
    }
   ],
   "source": [
    "# 构造样本\n",
    "train_user_list = []\n",
    "train_item_list = []\n",
    "train_label_list = []\n",
    "\n",
    "test_user_list = []\n",
    "test_item_list = []\n",
    "test_label_list = []\n",
    "user_list = pos_df['user_id'].unique()\n",
    "item_list = pos_df['item_id'].unique()\n",
    "item_num = pos_df['item_id'].nunique()\n",
    "\n",
    "for user in tqdm(user_list):\n",
    "    # 训练集正样本\n",
    "    for i in range(len(pos_dict[user])-1):\n",
    "        train_user_list.append(user)\n",
    "        train_item_list.append(pos_dict[user][i])\n",
    "        train_label_list.append(1)\n",
    "        \n",
    "    # 测试集正样本\n",
    "    test_user_list.append(user)\n",
    "    test_item_list.append(pos_dict[user][-1])\n",
    "    test_label_list.append(1)\n",
    "\n",
    "        \n",
    "train_df = pd.DataFrame()\n",
    "train_df['user_id'] = train_user_list\n",
    "train_df['item_id'] = train_item_list\n",
    "train_df['label'] = train_label_list\n",
    "\n",
    "test_df = pd.DataFrame()\n",
    "test_df['user_id'] = test_user_list\n",
    "test_df['item_id'] = test_item_list\n",
    "test_df['label'] = test_label_list\n"
   ]
  },
  {
   "cell_type": "code",
   "execution_count": 66,
   "id": "fd353986",
   "metadata": {},
   "outputs": [],
   "source": [
    "def get_sim_item(df, user_col, item_col):\n",
    "    # user_item_dict :key:user, values:item_list\n",
    "    user_item_dict = df.groupby(user_col)[item_col].agg(list).to_dict()\n",
    "    sim_item = {} # 如果不用字典，则需要：n_item x n_item；如果字典，只需要存储非0值 sim_item[item1][itme2]\n",
    "    item_cnt = defaultdict(int)\n",
    "    for user, items in tqdm(user_item_dict.items()):\n",
    "        '''\n",
    "        itmes : user的历史行为序列\n",
    "        '''\n",
    "        for i in items:\n",
    "            item_cnt[i] += 1\n",
    "            sim_item.setdefault(i, {}) # sim_item[i] = {}\n",
    "            for relate_item in items:\n",
    "                if i == relate_item:\n",
    "                    continue\n",
    "                sim_item[i].setdefault(relate_item, 0) #如果sim_item[i]字段的key没有relate_item,则赋值0\n",
    "                sim_item[i][relate_item] += 1 / math.log(1 + len(items)) #User行为热度打压\n",
    "                \n",
    "    sim_item_corr = sim_item.copy()\n",
    "    for i, related_items in tqdm(sim_item.items()):\n",
    "        for j, cij in related_items.items():\n",
    "            sim_item_corr[i][j] = cij / math.sqrt(item_cnt[i] * item_cnt[j]) #Item热度打压\n",
    "\n",
    "    return sim_item_corr,user_item_dict"
   ]
  },
  {
   "cell_type": "code",
   "execution_count": 67,
   "id": "b6540794",
   "metadata": {},
   "outputs": [
    {
     "name": "stderr",
     "output_type": "stream",
     "text": [
      "100%|███████████████████████████████████████████████████████████████████| 6028/6028 [01:22<00:00, 72.64it/s]\n",
      "100%|█████████████████████████████████████████████████████████████████| 3530/3530 [00:02<00:00, 1452.15it/s]\n"
     ]
    }
   ],
   "source": [
    "sim_item_corr,user_item_dict = get_sim_item(train_df,'user_id','item_id')"
   ]
  },
  {
   "cell_type": "code",
   "execution_count": 68,
   "id": "7d7bccb6",
   "metadata": {},
   "outputs": [],
   "source": [
    "order = train_df['item_id'].value_counts().reset_index()\n",
    "order = order.sort_values('item_id', ascending=False)\n",
    "popular_items = list(order['index'])"
   ]
  },
  {
   "cell_type": "code",
   "execution_count": 72,
   "id": "de44e3f4",
   "metadata": {},
   "outputs": [],
   "source": [
    "def recommend(user, sim_item_corr, popular_items, top_k, user_item_dict, item_num=20):  \n",
    "    rank = {}  \n",
    "    for i in user_item_dict[user]:  \n",
    "        if i not in sim_item_corr.keys():\n",
    "            continue\n",
    "        for j, wij in sorted(sim_item_corr[i].items(), key=lambda d: d[1], reverse=True)[0:item_num]:  \n",
    "            if j not in user_item_dict[user]:  \n",
    "                rank.setdefault(j, 0)  \n",
    "                rank[j] += wij\n",
    "    \n",
    "    rank = sorted(rank.items(), key=lambda d: d[1], reverse=True)[:top_k]\n",
    "    rank = np.array(rank)\n",
    "    item_list = list(rank[:,0].astype('int32'))\n",
    "    score_list = rank[:,1]\n",
    "    \n",
    "    if len(item_list)<top_k:\n",
    "        index = 0\n",
    "        while(len(item_list)<top_k):\n",
    "            item_list.append(popular_items[index])\n",
    "            item_list = list(set(item_list))\n",
    "            index +=1\n",
    "            \n",
    "    return item_list, score_list"
   ]
  },
  {
   "cell_type": "code",
   "execution_count": 73,
   "id": "2692e4df",
   "metadata": {},
   "outputs": [],
   "source": [
    "item_list, score_list=recommend(22,sim_item_corr,popular_items,100,user_item_dict)"
   ]
  },
  {
   "cell_type": "code",
   "execution_count": 74,
   "id": "f46bbf22",
   "metadata": {},
   "outputs": [
    {
     "name": "stderr",
     "output_type": "stream",
     "text": [
      "100%|███████████████████████████████████████████████████████████████████| 6028/6028 [08:39<00:00, 11.60it/s]\n"
     ]
    }
   ],
   "source": [
    "top_k = 20\n",
    "preds = defaultdict(list)\n",
    "for user_id in tqdm(test_df['user_id'].values):\n",
    "    item_list, score_list = recommend(user_id,sim_item_corr,popular_items,top_k,user_item_dict)\n",
    "    preds[user_id] = item_list"
   ]
  },
  {
   "cell_type": "code",
   "execution_count": 80,
   "id": "dcea62e8",
   "metadata": {},
   "outputs": [],
   "source": [
    "def hitrate(preds,test_df,topk=20):\n",
    "    hit_num = 0\n",
    "    for i in range(len(test_df)):\n",
    "        if test_df['item_id'].iloc[i] in preds[test_df['user_id'].iloc[i]]:\n",
    "            hit_num +=1\n",
    "    return hit_num / len(test_df)"
   ]
  },
  {
   "cell_type": "code",
   "execution_count": 81,
   "id": "6f619f3d",
   "metadata": {},
   "outputs": [
    {
     "data": {
      "text/plain": [
       "0.11131386861313869"
      ]
     },
     "execution_count": 81,
     "metadata": {},
     "output_type": "execute_result"
    }
   ],
   "source": [
    "hitrate(preds, test_df)"
   ]
  },
  {
   "cell_type": "code",
   "execution_count": 29,
   "id": "8afbbe85",
   "metadata": {},
   "outputs": [],
   "source": [
    "def predict_u2i(user,item,sim_item_corr,user_item_dict):\n",
    "    score = 0\n",
    "    for user_item in user_item_dict[user]:\n",
    "        if item in sim_item_corr[item]:\n",
    "            score += sim_item_corr[item][user_item]\n",
    "    return score"
   ]
  },
  {
   "cell_type": "code",
   "execution_count": 30,
   "id": "267c06e5",
   "metadata": {},
   "outputs": [
    {
     "data": {
      "text/plain": [
       "0"
      ]
     },
     "execution_count": 30,
     "metadata": {},
     "output_type": "execute_result"
    }
   ],
   "source": [
    "predict_u2i(22,11,sim_item_corr,user_item_dict)"
   ]
  },
  {
   "cell_type": "code",
   "execution_count": null,
   "id": "d626e223",
   "metadata": {},
   "outputs": [],
   "source": []
  }
 ],
 "metadata": {
  "kernelspec": {
   "display_name": "Python 3 (ipykernel)",
   "language": "python",
   "name": "python3"
  },
  "language_info": {
   "codemirror_mode": {
    "name": "ipython",
    "version": 3
   },
   "file_extension": ".py",
   "mimetype": "text/x-python",
   "name": "python",
   "nbconvert_exporter": "python",
   "pygments_lexer": "ipython3",
   "version": "3.7.5"
  }
 },
 "nbformat": 4,
 "nbformat_minor": 5
}
